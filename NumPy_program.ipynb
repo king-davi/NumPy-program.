{
  "nbformat": 4,
  "nbformat_minor": 0,
  "metadata": {
    "colab": {
      "provenance": [],
      "authorship_tag": "ABX9TyPqoTGeZmjTfnMxLPsU+qxZ",
      "include_colab_link": true
    },
    "kernelspec": {
      "name": "python3",
      "display_name": "Python 3"
    },
    "language_info": {
      "name": "python"
    }
  },
  "cells": [
    {
      "cell_type": "markdown",
      "metadata": {
        "id": "view-in-github",
        "colab_type": "text"
      },
      "source": [
        "<a href=\"https://colab.research.google.com/github/king-davi/NumPy-program./blob/main/NumPy_program.ipynb\" target=\"_parent\"><img src=\"https://colab.research.google.com/assets/colab-badge.svg\" alt=\"Open In Colab\"/></a>"
      ]
    },
    {
      "cell_type": "code",
      "execution_count": null,
      "metadata": {
        "colab": {
          "base_uri": "https://localhost:8080/"
        },
        "id": "tsyA7d_F-Lw3",
        "outputId": "6fe7d966-bc5b-4d4e-963f-88121c9ab29c"
      },
      "outputs": [
        {
          "output_type": "stream",
          "name": "stdout",
          "text": [
            "List: [2, 4, 3]\n"
          ]
        }
      ],
      "source": [
        "# Question 1\n",
        "# Write a Python program to convert an array to an ordinary list with the same items.\n",
        "# We can use the np.tolist() function.\n",
        "import numpy as np\n",
        "arr = np.array([2, 4, 3])\n",
        "list = arr.tolist()\n",
        "\n",
        "print(f'List: {list}')"
      ]
    },
    {
      "cell_type": "code",
      "source": [
        "# Question 2 \n",
        "# Write a NumPy program to compute the sum of the diagonal elements of a given array.\n",
        "# Hint: There are two possible methods to solve this problem: \n",
        "# Manually (without direct function). \n",
        "# Using the trace function\n",
        "numpy_array_from_list = np.array([2, 4, 3])\n",
        "print('original array: ', numpy_array_from_list)\n",
        "six_plus_original = numpy_array_from_list  + 6\n",
        "print(six_plus_original)"
      ],
      "metadata": {
        "colab": {
          "base_uri": "https://localhost:8080/"
        },
        "id": "Zqf0Ax8Iq2dz",
        "outputId": "a5ada0c9-12f9-452d-da66-0597e0f4e8bf"
      },
      "execution_count": null,
      "outputs": [
        {
          "output_type": "stream",
          "name": "stdout",
          "text": [
            "original array:  [2 4 3]\n",
            "[ 8 10  9]\n"
          ]
        }
      ]
    },
    {
      "cell_type": "code",
      "source": [
        "# Question 3\n",
        "# Given an array of your choice, get all the values higher than X:\n",
        "# If a = [[1,2],[3,5]] and x = 2 :  then 3 and 5 are higher than 2\n",
        "a = np.array([[1,2], [3,5]])\n",
        "x = 2\n",
        "array = np.greater(a, x)\n",
        "array"
      ],
      "metadata": {
        "colab": {
          "base_uri": "https://localhost:8080/"
        },
        "id": "TN30AI7utkRi",
        "outputId": "0639eef5-d409-4597-c519-62f646616584"
      },
      "execution_count": null,
      "outputs": [
        {
          "output_type": "execute_result",
          "data": {
            "text/plain": [
              "array([[False, False],\n",
              "       [ True,  True]])"
            ]
          },
          "metadata": {},
          "execution_count": 27
        }
      ]
    },
    {
      "cell_type": "code",
      "source": [
        "# Question 4\n",
        "# Given two arrays, A & B have the same shape. \n",
        "# The task is to apply addition by hand: C is the new array. \n",
        "a = np.random.rand(2,7)\n",
        "b = np.random.rand(2,7)\n",
        "new_array = (a + b)\n",
        "new_array"
      ],
      "metadata": {
        "id": "TpOBBH0_8PSK",
        "colab": {
          "base_uri": "https://localhost:8080/"
        },
        "outputId": "51e37cc3-99bd-4ac1-966b-32fb70dc0924"
      },
      "execution_count": null,
      "outputs": [
        {
          "output_type": "execute_result",
          "data": {
            "text/plain": [
              "array([[1.15681565, 0.61583916, 1.02077699, 1.3004206 , 1.80995405,\n",
              "        1.00005092, 0.37486193],\n",
              "       [0.58728756, 1.16132545, 0.29206911, 0.50601114, 1.11855942,\n",
              "        0.65057899, 1.19328868]])"
            ]
          },
          "metadata": {},
          "execution_count": 59
        }
      ]
    },
    {
      "cell_type": "code",
      "source": [
        "# Question 5\n",
        "# Write a NumPy program to subtract the mean of each row of a given matrix.\n",
        "# Hint: use the mean function\n",
        "import numpy as np\n",
        "arr = np.random.rand(3,6)\n",
        "x = arr - arr.mean(axis=1, keepdims=True)\n",
        "x\n"
      ],
      "metadata": {
        "id": "DYkwjyoN1wrA",
        "colab": {
          "base_uri": "https://localhost:8080/"
        },
        "outputId": "579c6930-09e3-498c-a3bd-b0bf82a26a93"
      },
      "execution_count": null,
      "outputs": [
        {
          "output_type": "execute_result",
          "data": {
            "text/plain": [
              "array([[ 0.55726009, -0.22785977,  0.1908023 , -0.27985256, -0.4191051 ,\n",
              "         0.17875504],\n",
              "       [-0.11297917,  0.16293513, -0.28573326,  0.08548653,  0.29380244,\n",
              "        -0.14351167],\n",
              "       [-0.04082811,  0.15761015, -0.15690086,  0.35951046, -0.11280841,\n",
              "        -0.20658323]])"
            ]
          },
          "metadata": {},
          "execution_count": 61
        }
      ]
    },
    {
      "cell_type": "code",
      "source": [
        "# What is random.randint\n",
        "# What is random.rand\n",
        "# what is the difference between both\n",
        "What is random.randint?? The randint() method returns an integer number selected element from the specified range.\n",
        "What is random.rand?? random.rand returns an evenly distributed random real number greater than or equal to 0 and less than 1. \n",
        "what is the difference between both?? The diffrience is The random command will generate a rondom value present in a given list/dictionary.\n",
        "And randint command will generate a random integer value from the given list/dictionary."
      ],
      "metadata": {
        "id": "8MbG_q4iA4Xd"
      },
      "execution_count": null,
      "outputs": []
    }
  ]
}